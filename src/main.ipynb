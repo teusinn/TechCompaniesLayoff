{
 "cells": [
  {
   "cell_type": "code",
   "execution_count": null,
   "metadata": {},
   "outputs": [],
   "source": [
    "# importing libraries\n",
    "import pandas as pd"
   ]
  },
  {
   "cell_type": "code",
   "execution_count": null,
   "metadata": {},
   "outputs": [],
   "source": [
    "# default variables\n",
    "tech_layoffs = pd.read_csv('../data/tech_layoffs.csv', sep=',')"
   ]
  },
  {
   "cell_type": "code",
   "execution_count": 9,
   "metadata": {},
   "outputs": [
    {
     "data": {
      "text/html": [
       "<div>\n",
       "<style scoped>\n",
       "    .dataframe tbody tr th:only-of-type {\n",
       "        vertical-align: middle;\n",
       "    }\n",
       "\n",
       "    .dataframe tbody tr th {\n",
       "        vertical-align: top;\n",
       "    }\n",
       "\n",
       "    .dataframe thead th {\n",
       "        text-align: right;\n",
       "    }\n",
       "</style>\n",
       "<table border=\"1\" class=\"dataframe\">\n",
       "  <thead>\n",
       "    <tr style=\"text-align: right;\">\n",
       "      <th></th>\n",
       "      <th>company</th>\n",
       "      <th>total_layoffs</th>\n",
       "      <th>impacted_workforce_percentage</th>\n",
       "      <th>reported_date</th>\n",
       "      <th>industry</th>\n",
       "      <th>headquarter_location</th>\n",
       "      <th>sources</th>\n",
       "      <th>status</th>\n",
       "      <th>additional_notes</th>\n",
       "    </tr>\n",
       "  </thead>\n",
       "  <tbody>\n",
       "    <tr>\n",
       "      <th>257</th>\n",
       "      <td>Subspace</td>\n",
       "      <td>Unclear</td>\n",
       "      <td>100</td>\n",
       "      <td>5/13/2022</td>\n",
       "      <td>Media/entertainment</td>\n",
       "      <td>Los Angeles</td>\n",
       "      <td>LinkedIn</td>\n",
       "      <td>Private</td>\n",
       "      <td>NaN</td>\n",
       "    </tr>\n",
       "    <tr>\n",
       "      <th>10</th>\n",
       "      <td>New Relic</td>\n",
       "      <td>110</td>\n",
       "      <td>5</td>\n",
       "      <td>8/18/2022</td>\n",
       "      <td>productivity, enterprise software</td>\n",
       "      <td>Bay Area, CA</td>\n",
       "      <td>MarketWatch</td>\n",
       "      <td>Private</td>\n",
       "      <td>NaN</td>\n",
       "    </tr>\n",
       "    <tr>\n",
       "      <th>379</th>\n",
       "      <td>Zillow</td>\n",
       "      <td>300</td>\n",
       "      <td>5</td>\n",
       "      <td>10/26/2022</td>\n",
       "      <td>PropTech</td>\n",
       "      <td>Seattle</td>\n",
       "      <td>TechCrunch</td>\n",
       "      <td>Public</td>\n",
       "      <td>NaN</td>\n",
       "    </tr>\n",
       "    <tr>\n",
       "      <th>298</th>\n",
       "      <td>Tempo Automation</td>\n",
       "      <td>54</td>\n",
       "      <td>Unclear</td>\n",
       "      <td>8/17/2022</td>\n",
       "      <td>automotive</td>\n",
       "      <td>San Francisco</td>\n",
       "      <td>San Francisco Business Times</td>\n",
       "      <td>Private</td>\n",
       "      <td>NaN</td>\n",
       "    </tr>\n",
       "    <tr>\n",
       "      <th>223</th>\n",
       "      <td>Ocavu</td>\n",
       "      <td>20</td>\n",
       "      <td>48</td>\n",
       "      <td>11/10/2022</td>\n",
       "      <td>Cryptocurrency</td>\n",
       "      <td>Lehi, UT</td>\n",
       "      <td>Salt Lake Tribune</td>\n",
       "      <td>Private</td>\n",
       "      <td>NaN</td>\n",
       "    </tr>\n",
       "  </tbody>\n",
       "</table>\n",
       "</div>"
      ],
      "text/plain": [
       "              company total_layoffs impacted_workforce_percentage  \\\n",
       "257          Subspace       Unclear                           100   \n",
       "10          New Relic           110                             5   \n",
       "379            Zillow           300                             5   \n",
       "298  Tempo Automation            54                       Unclear   \n",
       "223             Ocavu            20                            48   \n",
       "\n",
       "    reported_date                           industry headquarter_location  \\\n",
       "257     5/13/2022                Media/entertainment          Los Angeles   \n",
       "10      8/18/2022  productivity, enterprise software         Bay Area, CA   \n",
       "379    10/26/2022                           PropTech              Seattle   \n",
       "298     8/17/2022                         automotive        San Francisco   \n",
       "223    11/10/2022                     Cryptocurrency             Lehi, UT   \n",
       "\n",
       "                          sources   status additional_notes  \n",
       "257                      LinkedIn  Private              NaN  \n",
       "10                    MarketWatch  Private              NaN  \n",
       "379                    TechCrunch   Public              NaN  \n",
       "298  San Francisco Business Times  Private              NaN  \n",
       "223             Salt Lake Tribune  Private              NaN  "
      ]
     },
     "execution_count": 9,
     "metadata": {},
     "output_type": "execute_result"
    }
   ],
   "source": [
    "# showing random rows to pre-analyze the data\n",
    "tech_layoffs.sample(5)"
   ]
  },
  {
   "attachments": {},
   "cell_type": "markdown",
   "metadata": {},
   "source": [
    "# **First Basic Analysis**\n",
    "### **Objectives:**\n",
    "- Discover how many unique companies are listed on this dataset\n",
    "- Check which companies had more and fewer layoff\n",
    "- "
   ]
  },
  {
   "cell_type": "code",
   "execution_count": 14,
   "metadata": {},
   "outputs": [
    {
     "data": {
      "text/plain": [
       "company     477\n",
       "industry    289\n",
       "dtype: int64"
      ]
     },
     "execution_count": 14,
     "metadata": {},
     "output_type": "execute_result"
    }
   ],
   "source": [
    "tech_layoffs[['company']].nunique()"
   ]
  },
  {
   "attachments": {},
   "cell_type": "markdown",
   "metadata": {},
   "source": [
    "# Analysis 1) Rank which industry had most layoff "
   ]
  },
  {
   "attachments": {},
   "cell_type": "markdown",
   "metadata": {},
   "source": [
    "# Analysis 2)  "
   ]
  }
 ],
 "metadata": {
  "kernelspec": {
   "display_name": "env",
   "language": "python",
   "name": "python3"
  },
  "language_info": {
   "codemirror_mode": {
    "name": "ipython",
    "version": 3
   },
   "file_extension": ".py",
   "mimetype": "text/x-python",
   "name": "python",
   "nbconvert_exporter": "python",
   "pygments_lexer": "ipython3",
   "version": "3.11.1"
  },
  "orig_nbformat": 4
 },
 "nbformat": 4,
 "nbformat_minor": 2
}
