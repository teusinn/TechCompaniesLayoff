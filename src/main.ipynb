{
 "cells": [
  {
   "cell_type": "code",
   "execution_count": 2,
   "metadata": {},
   "outputs": [],
   "source": [
    "# importing libraries\n",
    "import pandas as pd"
   ]
  },
  {
   "cell_type": "code",
   "execution_count": 3,
   "metadata": {},
   "outputs": [],
   "source": [
    "# default variables\n",
    "tech_layoffs = pd.read_csv('../data/tech_layoffs.csv', sep=',')"
   ]
  },
  {
   "cell_type": "code",
   "execution_count": 4,
   "metadata": {},
   "outputs": [
    {
     "data": {
      "text/html": [
       "<div>\n",
       "<style scoped>\n",
       "    .dataframe tbody tr th:only-of-type {\n",
       "        vertical-align: middle;\n",
       "    }\n",
       "\n",
       "    .dataframe tbody tr th {\n",
       "        vertical-align: top;\n",
       "    }\n",
       "\n",
       "    .dataframe thead th {\n",
       "        text-align: right;\n",
       "    }\n",
       "</style>\n",
       "<table border=\"1\" class=\"dataframe\">\n",
       "  <thead>\n",
       "    <tr style=\"text-align: right;\">\n",
       "      <th></th>\n",
       "      <th>company</th>\n",
       "      <th>total_layoffs</th>\n",
       "      <th>impacted_workforce_percentage</th>\n",
       "      <th>reported_date</th>\n",
       "      <th>industry</th>\n",
       "      <th>headquarter_location</th>\n",
       "      <th>sources</th>\n",
       "      <th>status</th>\n",
       "      <th>additional_notes</th>\n",
       "    </tr>\n",
       "  </thead>\n",
       "  <tbody>\n",
       "    <tr>\n",
       "      <th>289</th>\n",
       "      <td>Wistia</td>\n",
       "      <td>40</td>\n",
       "      <td>Unclear</td>\n",
       "      <td>11/10/2022</td>\n",
       "      <td>Video production, marketing</td>\n",
       "      <td>Cambridge, MA</td>\n",
       "      <td>Wistia CEO</td>\n",
       "      <td>Private</td>\n",
       "      <td>NaN</td>\n",
       "    </tr>\n",
       "    <tr>\n",
       "      <th>176</th>\n",
       "      <td>Policygenius</td>\n",
       "      <td>170</td>\n",
       "      <td>25</td>\n",
       "      <td>6/2/2022</td>\n",
       "      <td>InsurTech</td>\n",
       "      <td>New York</td>\n",
       "      <td>TechCrunch</td>\n",
       "      <td>Private</td>\n",
       "      <td>NaN</td>\n",
       "    </tr>\n",
       "    <tr>\n",
       "      <th>45</th>\n",
       "      <td>Jellysmack</td>\n",
       "      <td>Unclear</td>\n",
       "      <td>8</td>\n",
       "      <td>6/9/2022</td>\n",
       "      <td>Media/Entertainment</td>\n",
       "      <td>New York</td>\n",
       "      <td>Business Insider</td>\n",
       "      <td>Private</td>\n",
       "      <td>NaN</td>\n",
       "    </tr>\n",
       "    <tr>\n",
       "      <th>135</th>\n",
       "      <td>Socure</td>\n",
       "      <td>104</td>\n",
       "      <td>19</td>\n",
       "      <td>1/5/2023</td>\n",
       "      <td>cybsersecurity, predictive analytics</td>\n",
       "      <td>Incline Village, NV</td>\n",
       "      <td>Biometric Update</td>\n",
       "      <td>Private</td>\n",
       "      <td>NaN</td>\n",
       "    </tr>\n",
       "    <tr>\n",
       "      <th>220</th>\n",
       "      <td>Fundbox</td>\n",
       "      <td>150</td>\n",
       "      <td>42</td>\n",
       "      <td>10/25/2022</td>\n",
       "      <td>Fintech</td>\n",
       "      <td>San Francisco</td>\n",
       "      <td>Calcalistech</td>\n",
       "      <td>Private</td>\n",
       "      <td>NaN</td>\n",
       "    </tr>\n",
       "  </tbody>\n",
       "</table>\n",
       "</div>"
      ],
      "text/plain": [
       "          company total_layoffs impacted_workforce_percentage reported_date  \\\n",
       "289        Wistia            40                       Unclear    11/10/2022   \n",
       "176  Policygenius           170                            25      6/2/2022   \n",
       "45     Jellysmack       Unclear                             8      6/9/2022   \n",
       "135        Socure           104                            19      1/5/2023   \n",
       "220       Fundbox           150                            42    10/25/2022   \n",
       "\n",
       "                                 industry headquarter_location  \\\n",
       "289           Video production, marketing        Cambridge, MA   \n",
       "176                             InsurTech             New York   \n",
       "45                    Media/Entertainment             New York   \n",
       "135  cybsersecurity, predictive analytics  Incline Village, NV   \n",
       "220                               Fintech        San Francisco   \n",
       "\n",
       "              sources   status additional_notes  \n",
       "289        Wistia CEO  Private              NaN  \n",
       "176        TechCrunch  Private              NaN  \n",
       "45   Business Insider  Private              NaN  \n",
       "135  Biometric Update  Private              NaN  \n",
       "220      Calcalistech  Private              NaN  "
      ]
     },
     "execution_count": 4,
     "metadata": {},
     "output_type": "execute_result"
    }
   ],
   "source": [
    "# showing random rows to pre-analyze the data\n",
    "tech_layoffs.sample(5)"
   ]
  },
  {
   "attachments": {},
   "cell_type": "markdown",
   "metadata": {},
   "source": [
    "# **First Basic Analysis**\n",
    "### **Objectives:**\n",
    "- Discover how many unique companies are listed on this dataset\n",
    "- Check which companies had more and fewer layoff\n",
    "- "
   ]
  },
  {
   "cell_type": "code",
   "execution_count": 5,
   "metadata": {},
   "outputs": [
    {
     "data": {
      "text/plain": [
       "489"
      ]
     },
     "execution_count": 5,
     "metadata": {},
     "output_type": "execute_result"
    }
   ],
   "source": [
    "# total rows in the dataset\n",
    "len(tech_layoffs)"
   ]
  },
  {
   "cell_type": "code",
   "execution_count": 6,
   "metadata": {},
   "outputs": [
    {
     "data": {
      "text/plain": [
       "company    477\n",
       "dtype: int64"
      ]
     },
     "execution_count": 6,
     "metadata": {},
     "output_type": "execute_result"
    }
   ],
   "source": [
    "# count unique companies in the dataset\n",
    "tech_layoffs[['company']].nunique()"
   ]
  },
  {
   "cell_type": "code",
   "execution_count": 7,
   "metadata": {},
   "outputs": [
    {
     "data": {
      "text/html": [
       "<div>\n",
       "<style scoped>\n",
       "    .dataframe tbody tr th:only-of-type {\n",
       "        vertical-align: middle;\n",
       "    }\n",
       "\n",
       "    .dataframe tbody tr th {\n",
       "        vertical-align: top;\n",
       "    }\n",
       "\n",
       "    .dataframe thead th {\n",
       "        text-align: right;\n",
       "    }\n",
       "</style>\n",
       "<table border=\"1\" class=\"dataframe\">\n",
       "  <thead>\n",
       "    <tr style=\"text-align: right;\">\n",
       "      <th></th>\n",
       "      <th>company</th>\n",
       "      <th>industry</th>\n",
       "      <th>headquarter_location</th>\n",
       "    </tr>\n",
       "  </thead>\n",
       "  <tbody>\n",
       "    <tr>\n",
       "      <th>69</th>\n",
       "      <td>Gemini</td>\n",
       "      <td>Fintech, Crypto</td>\n",
       "      <td>New York</td>\n",
       "    </tr>\n",
       "    <tr>\n",
       "      <th>92</th>\n",
       "      <td>Thirty Madison</td>\n",
       "      <td>health care, wellness</td>\n",
       "      <td>Greater New York area</td>\n",
       "    </tr>\n",
       "    <tr>\n",
       "      <th>185</th>\n",
       "      <td>Homeward</td>\n",
       "      <td>Proptech</td>\n",
       "      <td>Austin, TX</td>\n",
       "    </tr>\n",
       "    <tr>\n",
       "      <th>188</th>\n",
       "      <td>DataRobot</td>\n",
       "      <td>AI, enterprise software</td>\n",
       "      <td>Boston</td>\n",
       "    </tr>\n",
       "    <tr>\n",
       "      <th>201</th>\n",
       "      <td>Socure</td>\n",
       "      <td>Identity verification</td>\n",
       "      <td>Reno</td>\n",
       "    </tr>\n",
       "    <tr>\n",
       "      <th>211</th>\n",
       "      <td>TruePill</td>\n",
       "      <td>pharmaceutical, health care</td>\n",
       "      <td>Hayward, CA</td>\n",
       "    </tr>\n",
       "    <tr>\n",
       "      <th>249</th>\n",
       "      <td>Argo AI</td>\n",
       "      <td>Transportation</td>\n",
       "      <td>Pittsburgh</td>\n",
       "    </tr>\n",
       "    <tr>\n",
       "      <th>300</th>\n",
       "      <td>On Deck</td>\n",
       "      <td>Networking, business development</td>\n",
       "      <td>San Francisco</td>\n",
       "    </tr>\n",
       "    <tr>\n",
       "      <th>342</th>\n",
       "      <td>Sundae</td>\n",
       "      <td>PropTech</td>\n",
       "      <td>San Francisco</td>\n",
       "    </tr>\n",
       "    <tr>\n",
       "      <th>451</th>\n",
       "      <td>Blend</td>\n",
       "      <td>Fintech, proptech</td>\n",
       "      <td>San Francisco</td>\n",
       "    </tr>\n",
       "    <tr>\n",
       "      <th>458</th>\n",
       "      <td>Latch</td>\n",
       "      <td>PropTech</td>\n",
       "      <td>New York, NY</td>\n",
       "    </tr>\n",
       "    <tr>\n",
       "      <th>487</th>\n",
       "      <td>Skillz</td>\n",
       "      <td>Mobile Apps, Gaming</td>\n",
       "      <td>San Francisco</td>\n",
       "    </tr>\n",
       "  </tbody>\n",
       "</table>\n",
       "</div>"
      ],
      "text/plain": [
       "            company                          industry   headquarter_location\n",
       "69           Gemini                   Fintech, Crypto               New York\n",
       "92   Thirty Madison             health care, wellness  Greater New York area\n",
       "185        Homeward                          Proptech             Austin, TX\n",
       "188       DataRobot           AI, enterprise software                 Boston\n",
       "201          Socure             Identity verification                   Reno\n",
       "211        TruePill       pharmaceutical, health care            Hayward, CA\n",
       "249         Argo AI                    Transportation             Pittsburgh\n",
       "300         On Deck  Networking, business development          San Francisco\n",
       "342          Sundae                          PropTech          San Francisco\n",
       "451           Blend                 Fintech, proptech          San Francisco\n",
       "458           Latch                          PropTech           New York, NY\n",
       "487          Skillz               Mobile Apps, Gaming          San Francisco"
      ]
     },
     "execution_count": 7,
     "metadata": {},
     "output_type": "execute_result"
    }
   ],
   "source": [
    "# 489 - 477 = 12 repeated rows = 2 or more layoffs from the same company registered\n",
    "# checking which companies repeat in the dataset\n",
    "tech_layoffs[tech_layoffs['company'].duplicated() == True][['company', 'industry']]"
   ]
  },
  {
   "attachments": {},
   "cell_type": "markdown",
   "metadata": {},
   "source": [
    "# Analysis 1) Rank which industry had most layoff "
   ]
  },
  {
   "attachments": {},
   "cell_type": "markdown",
   "metadata": {},
   "source": [
    "# Analysis 2)  "
   ]
  }
 ],
 "metadata": {
  "kernelspec": {
   "display_name": "env",
   "language": "python",
   "name": "python3"
  },
  "language_info": {
   "codemirror_mode": {
    "name": "ipython",
    "version": 3
   },
   "file_extension": ".py",
   "mimetype": "text/x-python",
   "name": "python",
   "nbconvert_exporter": "python",
   "pygments_lexer": "ipython3",
   "version": "3.11.1"
  },
  "orig_nbformat": 4
 },
 "nbformat": 4,
 "nbformat_minor": 2
}
