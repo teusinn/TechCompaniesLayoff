{
 "cells": [
  {
   "attachments": {},
   "cell_type": "markdown",
   "metadata": {},
   "source": [
    "# **Tech Companies Layoff Analysis**\n",
    "## **by Mateus Lima Silva**\n",
    "\n",
    "---"
   ]
  },
  {
   "attachments": {},
   "cell_type": "markdown",
   "metadata": {},
   "source": [
    "## 1. Importing required libraries"
   ]
  },
  {
   "cell_type": "code",
   "execution_count": 61,
   "metadata": {},
   "outputs": [],
   "source": [
    "# Importing libraries\n",
    "import pandas               as pd\n",
    "import numpy                as np\n",
    "import matplotlib.pyplot    as plt\n",
    "import seaborn              as sns"
   ]
  },
  {
   "attachments": {},
   "cell_type": "markdown",
   "metadata": {},
   "source": [
    "## 2. Importing the dataset"
   ]
  },
  {
   "cell_type": "code",
   "execution_count": 62,
   "metadata": {},
   "outputs": [],
   "source": [
    "# Default variables\n",
    "df = pd.read_csv('../data/raw_tech_layoffs.csv', sep=',')"
   ]
  },
  {
   "attachments": {},
   "cell_type": "markdown",
   "metadata": {},
   "source": [
    "## 3. Configuring the environment"
   ]
  },
  {
   "cell_type": "code",
   "execution_count": 63,
   "metadata": {},
   "outputs": [],
   "source": [
    "# Set the width of the display\n",
    "pd.options.display.width = 1000"
   ]
  },
  {
   "attachments": {},
   "cell_type": "markdown",
   "metadata": {},
   "source": [
    "## 4. Exploring the dataset"
   ]
  },
  {
   "cell_type": "code",
   "execution_count": 64,
   "metadata": {},
   "outputs": [
    {
     "data": {
      "text/html": [
       "<div>\n",
       "<style scoped>\n",
       "    .dataframe tbody tr th:only-of-type {\n",
       "        vertical-align: middle;\n",
       "    }\n",
       "\n",
       "    .dataframe tbody tr th {\n",
       "        vertical-align: top;\n",
       "    }\n",
       "\n",
       "    .dataframe thead th {\n",
       "        text-align: right;\n",
       "    }\n",
       "</style>\n",
       "<table border=\"1\" class=\"dataframe\">\n",
       "  <thead>\n",
       "    <tr style=\"text-align: right;\">\n",
       "      <th></th>\n",
       "      <th>company</th>\n",
       "      <th>total_layoffs</th>\n",
       "      <th>impacted_workforce_percentage</th>\n",
       "      <th>reported_date</th>\n",
       "      <th>industry</th>\n",
       "      <th>headquarter_location</th>\n",
       "      <th>sources</th>\n",
       "      <th>status</th>\n",
       "      <th>additional_notes</th>\n",
       "    </tr>\n",
       "  </thead>\n",
       "  <tbody>\n",
       "    <tr>\n",
       "      <th>351</th>\n",
       "      <td>InVision</td>\n",
       "      <td>Unclear</td>\n",
       "      <td>Unclear</td>\n",
       "      <td>7/21/2022</td>\n",
       "      <td>Visual collaboration, Apps</td>\n",
       "      <td>New York</td>\n",
       "      <td>LinkedIn</td>\n",
       "      <td>Private</td>\n",
       "      <td>NaN</td>\n",
       "    </tr>\n",
       "    <tr>\n",
       "      <th>317</th>\n",
       "      <td>Embark</td>\n",
       "      <td>Unclear</td>\n",
       "      <td>Unclear</td>\n",
       "      <td>1/11/2023</td>\n",
       "      <td>Pet tech, health care</td>\n",
       "      <td>Boston</td>\n",
       "      <td>Embark CEP Ryan Boyko</td>\n",
       "      <td>Private</td>\n",
       "      <td>NaN</td>\n",
       "    </tr>\n",
       "    <tr>\n",
       "      <th>61</th>\n",
       "      <td>Verbit</td>\n",
       "      <td>80</td>\n",
       "      <td>10</td>\n",
       "      <td>7/5/2022</td>\n",
       "      <td>Natural Language Processing</td>\n",
       "      <td>New York</td>\n",
       "      <td>CTech</td>\n",
       "      <td>Private</td>\n",
       "      <td>NaN</td>\n",
       "    </tr>\n",
       "    <tr>\n",
       "      <th>410</th>\n",
       "      <td>Compass</td>\n",
       "      <td>Unclear</td>\n",
       "      <td>10</td>\n",
       "      <td>1/5/2023</td>\n",
       "      <td>PropTech</td>\n",
       "      <td>New York</td>\n",
       "      <td>Bloomberg</td>\n",
       "      <td>Public</td>\n",
       "      <td>NaN</td>\n",
       "    </tr>\n",
       "    <tr>\n",
       "      <th>108</th>\n",
       "      <td>Code42</td>\n",
       "      <td>Unclear</td>\n",
       "      <td>15</td>\n",
       "      <td>11/7/2022</td>\n",
       "      <td>Cybersecurity, enterprise software</td>\n",
       "      <td>Minneapolis</td>\n",
       "      <td>Star Tribune</td>\n",
       "      <td>Private</td>\n",
       "      <td>NaN</td>\n",
       "    </tr>\n",
       "  </tbody>\n",
       "</table>\n",
       "</div>"
      ],
      "text/plain": [
       "      company total_layoffs impacted_workforce_percentage reported_date                            industry headquarter_location                sources   status additional_notes\n",
       "351  InVision       Unclear                       Unclear     7/21/2022          Visual collaboration, Apps             New York               LinkedIn  Private              NaN\n",
       "317    Embark       Unclear                       Unclear     1/11/2023               Pet tech, health care               Boston  Embark CEP Ryan Boyko  Private              NaN\n",
       "61     Verbit            80                            10      7/5/2022         Natural Language Processing             New York                  CTech  Private              NaN\n",
       "410   Compass       Unclear                            10      1/5/2023                            PropTech             New York              Bloomberg   Public              NaN\n",
       "108    Code42       Unclear                            15     11/7/2022  Cybersecurity, enterprise software          Minneapolis           Star Tribune  Private              NaN"
      ]
     },
     "execution_count": 64,
     "metadata": {},
     "output_type": "execute_result"
    }
   ],
   "source": [
    "# Getting 5 random rows to analyze the dataframe\n",
    "df.sample(5)"
   ]
  },
  {
   "cell_type": "code",
   "execution_count": 65,
   "metadata": {},
   "outputs": [
    {
     "name": "stdout",
     "output_type": "stream",
     "text": [
      "This dataframe has 489 rows and 9 columns.\n"
     ]
    }
   ],
   "source": [
    "# Dataframe size\n",
    "total_rows = df.shape[0]\n",
    "total_columns = df.shape[1]\n",
    "print('This dataframe has {} rows and {} columns.'.format(total_rows, total_columns))"
   ]
  },
  {
   "cell_type": "code",
   "execution_count": 66,
   "metadata": {},
   "outputs": [
    {
     "data": {
      "text/plain": [
       "company                          object\n",
       "total_layoffs                    object\n",
       "impacted_workforce_percentage    object\n",
       "reported_date                    object\n",
       "industry                         object\n",
       "headquarter_location             object\n",
       "sources                          object\n",
       "status                           object\n",
       "additional_notes                 object\n",
       "dtype: object"
      ]
     },
     "execution_count": 66,
     "metadata": {},
     "output_type": "execute_result"
    }
   ],
   "source": [
    "# Checking the available columns and their types\n",
    "df.dtypes"
   ]
  },
  {
   "attachments": {},
   "cell_type": "markdown",
   "metadata": {},
   "source": [
    "## 4.1 Exploring columns: ***company***"
   ]
  },
  {
   "cell_type": "code",
   "execution_count": 67,
   "metadata": {},
   "outputs": [
    {
     "name": "stdout",
     "output_type": "stream",
     "text": [
      "There are 477 unique companies in this dataset.\n"
     ]
    }
   ],
   "source": [
    "# Counting unique companies in the dataset\n",
    "unique_companies = df[['company']].nunique()[0]\n",
    "\n",
    "print('There are {} unique companies in this dataset.'.format(unique_companies))"
   ]
  },
  {
   "cell_type": "code",
   "execution_count": 68,
   "metadata": {},
   "outputs": [
    {
     "data": {
      "text/html": [
       "<div>\n",
       "<style scoped>\n",
       "    .dataframe tbody tr th:only-of-type {\n",
       "        vertical-align: middle;\n",
       "    }\n",
       "\n",
       "    .dataframe tbody tr th {\n",
       "        vertical-align: top;\n",
       "    }\n",
       "\n",
       "    .dataframe thead th {\n",
       "        text-align: right;\n",
       "    }\n",
       "</style>\n",
       "<table border=\"1\" class=\"dataframe\">\n",
       "  <thead>\n",
       "    <tr style=\"text-align: right;\">\n",
       "      <th></th>\n",
       "      <th>company</th>\n",
       "      <th>industry</th>\n",
       "    </tr>\n",
       "  </thead>\n",
       "  <tbody>\n",
       "    <tr>\n",
       "      <th>69</th>\n",
       "      <td>Gemini</td>\n",
       "      <td>Fintech, Crypto</td>\n",
       "    </tr>\n",
       "    <tr>\n",
       "      <th>92</th>\n",
       "      <td>Thirty Madison</td>\n",
       "      <td>health care, wellness</td>\n",
       "    </tr>\n",
       "    <tr>\n",
       "      <th>185</th>\n",
       "      <td>Homeward</td>\n",
       "      <td>Proptech</td>\n",
       "    </tr>\n",
       "    <tr>\n",
       "      <th>188</th>\n",
       "      <td>DataRobot</td>\n",
       "      <td>AI, enterprise software</td>\n",
       "    </tr>\n",
       "    <tr>\n",
       "      <th>201</th>\n",
       "      <td>Socure</td>\n",
       "      <td>Identity verification</td>\n",
       "    </tr>\n",
       "    <tr>\n",
       "      <th>211</th>\n",
       "      <td>TruePill</td>\n",
       "      <td>pharmaceutical, health care</td>\n",
       "    </tr>\n",
       "    <tr>\n",
       "      <th>249</th>\n",
       "      <td>Argo AI</td>\n",
       "      <td>Transportation</td>\n",
       "    </tr>\n",
       "    <tr>\n",
       "      <th>300</th>\n",
       "      <td>On Deck</td>\n",
       "      <td>Networking, business development</td>\n",
       "    </tr>\n",
       "    <tr>\n",
       "      <th>342</th>\n",
       "      <td>Sundae</td>\n",
       "      <td>PropTech</td>\n",
       "    </tr>\n",
       "    <tr>\n",
       "      <th>451</th>\n",
       "      <td>Blend</td>\n",
       "      <td>Fintech, proptech</td>\n",
       "    </tr>\n",
       "    <tr>\n",
       "      <th>458</th>\n",
       "      <td>Latch</td>\n",
       "      <td>PropTech</td>\n",
       "    </tr>\n",
       "    <tr>\n",
       "      <th>487</th>\n",
       "      <td>Skillz</td>\n",
       "      <td>Mobile Apps, Gaming</td>\n",
       "    </tr>\n",
       "  </tbody>\n",
       "</table>\n",
       "</div>"
      ],
      "text/plain": [
       "            company                          industry\n",
       "69           Gemini                   Fintech, Crypto\n",
       "92   Thirty Madison             health care, wellness\n",
       "185        Homeward                          Proptech\n",
       "188       DataRobot           AI, enterprise software\n",
       "201          Socure             Identity verification\n",
       "211        TruePill       pharmaceutical, health care\n",
       "249         Argo AI                    Transportation\n",
       "300         On Deck  Networking, business development\n",
       "342          Sundae                          PropTech\n",
       "451           Blend                 Fintech, proptech\n",
       "458           Latch                          PropTech\n",
       "487          Skillz               Mobile Apps, Gaming"
      ]
     },
     "execution_count": 68,
     "metadata": {},
     "output_type": "execute_result"
    }
   ],
   "source": [
    "# 489 - 477 = 12 repeated rows = 2 or more layoffs from the same company registered\n",
    "# Checking which companies repeat in the dataset\n",
    "repeated_companies = df[df['company'].duplicated() == True][['company', 'industry']]\n",
    "repeated_companies"
   ]
  },
  {
   "cell_type": "code",
   "execution_count": 69,
   "metadata": {},
   "outputs": [
    {
     "data": {
      "text/html": [
       "<div>\n",
       "<style scoped>\n",
       "    .dataframe tbody tr th:only-of-type {\n",
       "        vertical-align: middle;\n",
       "    }\n",
       "\n",
       "    .dataframe tbody tr th {\n",
       "        vertical-align: top;\n",
       "    }\n",
       "\n",
       "    .dataframe thead th {\n",
       "        text-align: right;\n",
       "    }\n",
       "</style>\n",
       "<table border=\"1\" class=\"dataframe\">\n",
       "  <thead>\n",
       "    <tr style=\"text-align: right;\">\n",
       "      <th></th>\n",
       "      <th>company</th>\n",
       "      <th>industry</th>\n",
       "      <th>reported_date</th>\n",
       "    </tr>\n",
       "  </thead>\n",
       "  <tbody>\n",
       "    <tr>\n",
       "      <th>0</th>\n",
       "      <td>Argo AI</td>\n",
       "      <td>Transportation</td>\n",
       "      <td>7/7/2022, 10/26/2022</td>\n",
       "    </tr>\n",
       "    <tr>\n",
       "      <th>1</th>\n",
       "      <td>Blend</td>\n",
       "      <td>Fintech</td>\n",
       "      <td>4/19/2022, 1/10/2023</td>\n",
       "    </tr>\n",
       "    <tr>\n",
       "      <th>2</th>\n",
       "      <td>DataRobot</td>\n",
       "      <td>Artificial Intelligence</td>\n",
       "      <td>8/8/2022, 8/23/2022</td>\n",
       "    </tr>\n",
       "    <tr>\n",
       "      <th>3</th>\n",
       "      <td>Gemini</td>\n",
       "      <td>Crypto</td>\n",
       "      <td>7/18/2022, 6/2/2022</td>\n",
       "    </tr>\n",
       "    <tr>\n",
       "      <th>4</th>\n",
       "      <td>Homeward</td>\n",
       "      <td>Real Estate, PropTech</td>\n",
       "      <td>8/11/2022, 11/16/2022</td>\n",
       "    </tr>\n",
       "    <tr>\n",
       "      <th>5</th>\n",
       "      <td>Latch</td>\n",
       "      <td>Smart Home, Security</td>\n",
       "      <td>5/13/2022, 8/2/2022</td>\n",
       "    </tr>\n",
       "    <tr>\n",
       "      <th>6</th>\n",
       "      <td>On Deck</td>\n",
       "      <td>Business development</td>\n",
       "      <td>5/5/2022, 8/4/2022</td>\n",
       "    </tr>\n",
       "    <tr>\n",
       "      <th>7</th>\n",
       "      <td>Skillz</td>\n",
       "      <td>Esports/Video Games</td>\n",
       "      <td>5/20/2022, 8/29/2022</td>\n",
       "    </tr>\n",
       "    <tr>\n",
       "      <th>8</th>\n",
       "      <td>Socure</td>\n",
       "      <td>cybsersecurity, predictive analytics</td>\n",
       "      <td>1/5/2023, 1/5/2023</td>\n",
       "    </tr>\n",
       "    <tr>\n",
       "      <th>9</th>\n",
       "      <td>Sundae</td>\n",
       "      <td>PropTech, Real Estate</td>\n",
       "      <td>6/28/2022, 9/13/2022</td>\n",
       "    </tr>\n",
       "    <tr>\n",
       "      <th>10</th>\n",
       "      <td>Thirty Madison</td>\n",
       "      <td>Health Care</td>\n",
       "      <td>5/13/2022, 8/18/2022</td>\n",
       "    </tr>\n",
       "    <tr>\n",
       "      <th>11</th>\n",
       "      <td>TruePill</td>\n",
       "      <td>Health Care</td>\n",
       "      <td>6/8/2022, 9/30/2022</td>\n",
       "    </tr>\n",
       "  </tbody>\n",
       "</table>\n",
       "</div>"
      ],
      "text/plain": [
       "           company                              industry          reported_date\n",
       "0          Argo AI                        Transportation   7/7/2022, 10/26/2022\n",
       "1            Blend                               Fintech   4/19/2022, 1/10/2023\n",
       "2        DataRobot               Artificial Intelligence    8/8/2022, 8/23/2022\n",
       "3           Gemini                                Crypto    7/18/2022, 6/2/2022\n",
       "4         Homeward                 Real Estate, PropTech  8/11/2022, 11/16/2022\n",
       "5            Latch                  Smart Home, Security    5/13/2022, 8/2/2022\n",
       "6          On Deck                  Business development     5/5/2022, 8/4/2022\n",
       "7           Skillz                   Esports/Video Games   5/20/2022, 8/29/2022\n",
       "8           Socure  cybsersecurity, predictive analytics     1/5/2023, 1/5/2023\n",
       "9           Sundae                 PropTech, Real Estate   6/28/2022, 9/13/2022\n",
       "10  Thirty Madison                           Health Care   5/13/2022, 8/18/2022\n",
       "11        TruePill                           Health Care    6/8/2022, 9/30/2022"
      ]
     },
     "execution_count": 69,
     "metadata": {},
     "output_type": "execute_result"
    }
   ],
   "source": [
    "# Adding the \"reported_date\" for the repeated_companies dataframe\n",
    "repeated_companies = df[['company', 'reported_date']].groupby(['company'])['reported_date'].apply(', '.join).reset_index()\n",
    "repeated_companies = repeated_companies.merge(df[['company', 'industry']], on='company', how='left')\n",
    "repeated_companies = repeated_companies[repeated_companies['reported_date'].str.contains(',')][['company', 'industry', 'reported_date']]\n",
    "repeated_companies = repeated_companies.drop_duplicates('company').reset_index(drop=True)\n",
    "\n",
    "repeated_companies"
   ]
  },
  {
   "cell_type": "code",
   "execution_count": 70,
   "metadata": {},
   "outputs": [
    {
     "name": "stdout",
     "output_type": "stream",
     "text": [
      "Of the 489 lines, there are 477 unique companies. 12 of them have two or more layoffs registered.\n",
      "They are: \n",
      "           company                              industry          reported_date\n",
      "0          Argo AI                        Transportation   7/7/2022, 10/26/2022\n",
      "1            Blend                               Fintech   4/19/2022, 1/10/2023\n",
      "2        DataRobot               Artificial Intelligence    8/8/2022, 8/23/2022\n",
      "3           Gemini                                Crypto    7/18/2022, 6/2/2022\n",
      "4         Homeward                 Real Estate, PropTech  8/11/2022, 11/16/2022\n",
      "5            Latch                  Smart Home, Security    5/13/2022, 8/2/2022\n",
      "6          On Deck                  Business development     5/5/2022, 8/4/2022\n",
      "7           Skillz                   Esports/Video Games   5/20/2022, 8/29/2022\n",
      "8           Socure  cybsersecurity, predictive analytics     1/5/2023, 1/5/2023\n",
      "9           Sundae                 PropTech, Real Estate   6/28/2022, 9/13/2022\n",
      "10  Thirty Madison                           Health Care   5/13/2022, 8/18/2022\n",
      "11        TruePill                           Health Care    6/8/2022, 9/30/2022\n"
     ]
    }
   ],
   "source": [
    "# Printing the companies with two or more layoffs\n",
    "print('Of the 489 lines, there are {} unique companies. {} of them have two or more layoffs registered.'.format(unique_companies, total_rows - unique_companies))\n",
    "print('They are: \\n{}'.format(repeated_companies))"
   ]
  },
  {
   "cell_type": "code",
   "execution_count": 71,
   "metadata": {},
   "outputs": [
    {
     "data": {
      "text/html": [
       "<div>\n",
       "<style scoped>\n",
       "    .dataframe tbody tr th:only-of-type {\n",
       "        vertical-align: middle;\n",
       "    }\n",
       "\n",
       "    .dataframe tbody tr th {\n",
       "        vertical-align: top;\n",
       "    }\n",
       "\n",
       "    .dataframe thead th {\n",
       "        text-align: right;\n",
       "    }\n",
       "</style>\n",
       "<table border=\"1\" class=\"dataframe\">\n",
       "  <thead>\n",
       "    <tr style=\"text-align: right;\">\n",
       "      <th></th>\n",
       "      <th>company</th>\n",
       "      <th>total_layoffs</th>\n",
       "      <th>impacted_workforce_percentage</th>\n",
       "      <th>reported_date</th>\n",
       "      <th>industry</th>\n",
       "      <th>headquarter_location</th>\n",
       "      <th>sources</th>\n",
       "      <th>status</th>\n",
       "      <th>additional_notes</th>\n",
       "      <th>repeated_layoffs</th>\n",
       "    </tr>\n",
       "  </thead>\n",
       "  <tbody>\n",
       "    <tr>\n",
       "      <th>32</th>\n",
       "      <td>DataRobot</td>\n",
       "      <td>Unclear</td>\n",
       "      <td>7</td>\n",
       "      <td>8/8/2022</td>\n",
       "      <td>Artificial Intelligence</td>\n",
       "      <td>Boston</td>\n",
       "      <td>Boston Globe</td>\n",
       "      <td>Private</td>\n",
       "      <td>NaN</td>\n",
       "      <td>True</td>\n",
       "    </tr>\n",
       "    <tr>\n",
       "      <th>141</th>\n",
       "      <td>Homeward</td>\n",
       "      <td>120</td>\n",
       "      <td>20</td>\n",
       "      <td>8/11/2022</td>\n",
       "      <td>Real Estate, PropTech</td>\n",
       "      <td>Austin</td>\n",
       "      <td>The Real Deal</td>\n",
       "      <td>Private</td>\n",
       "      <td>NaN</td>\n",
       "      <td>True</td>\n",
       "    </tr>\n",
       "    <tr>\n",
       "      <th>181</th>\n",
       "      <td>On Deck</td>\n",
       "      <td>72</td>\n",
       "      <td>25</td>\n",
       "      <td>5/5/2022</td>\n",
       "      <td>Business development</td>\n",
       "      <td>San Francisco</td>\n",
       "      <td>TechCrunch</td>\n",
       "      <td>Private</td>\n",
       "      <td>NaN</td>\n",
       "      <td>True</td>\n",
       "    </tr>\n",
       "    <tr>\n",
       "      <th>185</th>\n",
       "      <td>Homeward</td>\n",
       "      <td>Unclear</td>\n",
       "      <td>25</td>\n",
       "      <td>11/16/2022</td>\n",
       "      <td>Proptech</td>\n",
       "      <td>Austin, TX</td>\n",
       "      <td>Homeward</td>\n",
       "      <td>Private</td>\n",
       "      <td>NaN</td>\n",
       "      <td>True</td>\n",
       "    </tr>\n",
       "    <tr>\n",
       "      <th>188</th>\n",
       "      <td>DataRobot</td>\n",
       "      <td>Unclear</td>\n",
       "      <td>26</td>\n",
       "      <td>8/23/2022</td>\n",
       "      <td>AI, enterprise software</td>\n",
       "      <td>Boston</td>\n",
       "      <td>The Information</td>\n",
       "      <td>Private</td>\n",
       "      <td>NaN</td>\n",
       "      <td>True</td>\n",
       "    </tr>\n",
       "    <tr>\n",
       "      <th>300</th>\n",
       "      <td>On Deck</td>\n",
       "      <td>73</td>\n",
       "      <td>Unclear</td>\n",
       "      <td>8/4/2022</td>\n",
       "      <td>Networking, business development</td>\n",
       "      <td>San Francisco</td>\n",
       "      <td>TechCrunch</td>\n",
       "      <td>Private</td>\n",
       "      <td>NaN</td>\n",
       "      <td>True</td>\n",
       "    </tr>\n",
       "    <tr>\n",
       "      <th>420</th>\n",
       "      <td>Meta</td>\n",
       "      <td>11000</td>\n",
       "      <td>13</td>\n",
       "      <td>11/9/2022</td>\n",
       "      <td>Social media</td>\n",
       "      <td>Menlo Park, CA</td>\n",
       "      <td>CNBC</td>\n",
       "      <td>Public</td>\n",
       "      <td>NaN</td>\n",
       "      <td>NaN</td>\n",
       "    </tr>\n",
       "  </tbody>\n",
       "</table>\n",
       "</div>"
      ],
      "text/plain": [
       "       company total_layoffs impacted_workforce_percentage reported_date                          industry headquarter_location          sources   status additional_notes repeated_layoffs\n",
       "32   DataRobot       Unclear                             7      8/8/2022           Artificial Intelligence               Boston     Boston Globe  Private              NaN             True\n",
       "141   Homeward           120                            20     8/11/2022             Real Estate, PropTech               Austin    The Real Deal  Private              NaN             True\n",
       "181    On Deck            72                            25      5/5/2022              Business development        San Francisco       TechCrunch  Private              NaN             True\n",
       "185   Homeward       Unclear                            25    11/16/2022                          Proptech           Austin, TX         Homeward  Private              NaN             True\n",
       "188  DataRobot       Unclear                            26     8/23/2022           AI, enterprise software               Boston  The Information  Private              NaN             True\n",
       "300    On Deck            73                       Unclear      8/4/2022  Networking, business development        San Francisco       TechCrunch  Private              NaN             True\n",
       "420       Meta         11000                            13     11/9/2022                      Social media       Menlo Park, CA             CNBC   Public              NaN              NaN"
      ]
     },
     "execution_count": 71,
     "metadata": {},
     "output_type": "execute_result"
    }
   ],
   "source": [
    "# Tagging these companies in the 'df'\n",
    "repeated_companies['repeated_layoffs'] = True\n",
    "df = df.merge(repeated_companies[['company', 'repeated_layoffs']], on='company', how='left')\n",
    "df['repeated_layoffs'] = df['repeated_layoffs'].fillna(False)\n",
    "\n",
    "# Checking if it worked\n",
    "df[(df['company'] == 'Homeward') | (df['company'] == 'On Deck') | (df['company'] == 'DataRobot') | (df['company'] == 'Meta')]"
   ]
  },
  {
   "cell_type": "code",
   "execution_count": 47,
   "metadata": {},
   "outputs": [
    {
     "data": {
      "text/html": [
       "<div>\n",
       "<style scoped>\n",
       "    .dataframe tbody tr th:only-of-type {\n",
       "        vertical-align: middle;\n",
       "    }\n",
       "\n",
       "    .dataframe tbody tr th {\n",
       "        vertical-align: top;\n",
       "    }\n",
       "\n",
       "    .dataframe thead th {\n",
       "        text-align: right;\n",
       "    }\n",
       "</style>\n",
       "<table border=\"1\" class=\"dataframe\">\n",
       "  <thead>\n",
       "    <tr style=\"text-align: right;\">\n",
       "      <th></th>\n",
       "      <th>company</th>\n",
       "      <th>total_layoffs</th>\n",
       "      <th>impacted_workforce_percentage</th>\n",
       "      <th>reported_date</th>\n",
       "      <th>industry</th>\n",
       "      <th>headquarter_location</th>\n",
       "      <th>sources</th>\n",
       "      <th>status</th>\n",
       "      <th>additional_notes</th>\n",
       "      <th>repeated_layoffs</th>\n",
       "    </tr>\n",
       "  </thead>\n",
       "  <tbody>\n",
       "    <tr>\n",
       "      <th>32</th>\n",
       "      <td>DataRobot</td>\n",
       "      <td>Unclear</td>\n",
       "      <td>7</td>\n",
       "      <td>8/8/2022</td>\n",
       "      <td>Artificial Intelligence</td>\n",
       "      <td>Boston</td>\n",
       "      <td>Boston Globe</td>\n",
       "      <td>Private</td>\n",
       "      <td>NaN</td>\n",
       "      <td>True</td>\n",
       "    </tr>\n",
       "    <tr>\n",
       "      <th>141</th>\n",
       "      <td>Homeward</td>\n",
       "      <td>120</td>\n",
       "      <td>20</td>\n",
       "      <td>8/11/2022</td>\n",
       "      <td>Real Estate, PropTech</td>\n",
       "      <td>Austin</td>\n",
       "      <td>The Real Deal</td>\n",
       "      <td>Private</td>\n",
       "      <td>NaN</td>\n",
       "      <td>True</td>\n",
       "    </tr>\n",
       "    <tr>\n",
       "      <th>181</th>\n",
       "      <td>On Deck</td>\n",
       "      <td>72</td>\n",
       "      <td>25</td>\n",
       "      <td>5/5/2022</td>\n",
       "      <td>Business development</td>\n",
       "      <td>San Francisco</td>\n",
       "      <td>TechCrunch</td>\n",
       "      <td>Private</td>\n",
       "      <td>NaN</td>\n",
       "      <td>True</td>\n",
       "    </tr>\n",
       "    <tr>\n",
       "      <th>185</th>\n",
       "      <td>Homeward</td>\n",
       "      <td>Unclear</td>\n",
       "      <td>25</td>\n",
       "      <td>11/16/2022</td>\n",
       "      <td>Proptech</td>\n",
       "      <td>Austin, TX</td>\n",
       "      <td>Homeward</td>\n",
       "      <td>Private</td>\n",
       "      <td>NaN</td>\n",
       "      <td>True</td>\n",
       "    </tr>\n",
       "    <tr>\n",
       "      <th>188</th>\n",
       "      <td>DataRobot</td>\n",
       "      <td>Unclear</td>\n",
       "      <td>26</td>\n",
       "      <td>8/23/2022</td>\n",
       "      <td>AI, enterprise software</td>\n",
       "      <td>Boston</td>\n",
       "      <td>The Information</td>\n",
       "      <td>Private</td>\n",
       "      <td>NaN</td>\n",
       "      <td>True</td>\n",
       "    </tr>\n",
       "    <tr>\n",
       "      <th>300</th>\n",
       "      <td>On Deck</td>\n",
       "      <td>73</td>\n",
       "      <td>Unclear</td>\n",
       "      <td>8/4/2022</td>\n",
       "      <td>Networking, business development</td>\n",
       "      <td>San Francisco</td>\n",
       "      <td>TechCrunch</td>\n",
       "      <td>Private</td>\n",
       "      <td>NaN</td>\n",
       "      <td>True</td>\n",
       "    </tr>\n",
       "  </tbody>\n",
       "</table>\n",
       "</div>"
      ],
      "text/plain": [
       "       company total_layoffs impacted_workforce_percentage reported_date                          industry headquarter_location          sources   status additional_notes repeated_layoffs\n",
       "32   DataRobot       Unclear                             7      8/8/2022           Artificial Intelligence               Boston     Boston Globe  Private              NaN             True\n",
       "141   Homeward           120                            20     8/11/2022             Real Estate, PropTech               Austin    The Real Deal  Private              NaN             True\n",
       "181    On Deck            72                            25      5/5/2022              Business development        San Francisco       TechCrunch  Private              NaN             True\n",
       "185   Homeward       Unclear                            25    11/16/2022                          Proptech           Austin, TX         Homeward  Private              NaN             True\n",
       "188  DataRobot       Unclear                            26     8/23/2022           AI, enterprise software               Boston  The Information  Private              NaN             True\n",
       "300    On Deck            73                       Unclear      8/4/2022  Networking, business development        San Francisco       TechCrunch  Private              NaN             True"
      ]
     },
     "execution_count": 47,
     "metadata": {},
     "output_type": "execute_result"
    }
   ],
   "source": []
  },
  {
   "attachments": {},
   "cell_type": "markdown",
   "metadata": {},
   "source": [
    "## 4.2 Exploring columns: ***total_layoffs***"
   ]
  },
  {
   "cell_type": "code",
   "execution_count": 11,
   "metadata": {},
   "outputs": [
    {
     "name": "stdout",
     "output_type": "stream",
     "text": [
      "The minimum employees affected by layoff in this dataset is 10 and the maximum is Unclear.\n"
     ]
    }
   ],
   "source": [
    "# Minimum and maximum \"total_layoffs\"\n",
    "min_layoff = df['total_layoffs'].min()\n",
    "max_layoff = df['total_layoffs'].max()\n",
    "\n",
    "print('The minimum employees affected by layoff in this dataset is {} and the maximum is {}.'.format(min_layoff, max_layoff))"
   ]
  },
  {
   "cell_type": "code",
   "execution_count": 12,
   "metadata": {},
   "outputs": [
    {
     "data": {
      "text/plain": [
       "array(['Unclear'], dtype=object)"
      ]
     },
     "execution_count": 12,
     "metadata": {},
     "output_type": "execute_result"
    }
   ],
   "source": [
    "# Checking which values are present in \"total_layoffs\" beside numbers\n",
    "text_total_layoff = df[~df['total_layoffs'].str.isnumeric()]['total_layoffs'].unique()\n",
    "text_total_layoff"
   ]
  },
  {
   "cell_type": "code",
   "execution_count": 13,
   "metadata": {},
   "outputs": [],
   "source": [
    "# Saving the text output into the variable\n",
    "text_total_layoff = text_total_layoff[0]"
   ]
  },
  {
   "cell_type": "code",
   "execution_count": 14,
   "metadata": {},
   "outputs": [
    {
     "name": "stdout",
     "output_type": "stream",
     "text": [
      "The minimum employees affected by layoff in this dataset is 5.0 and the maximum is 18000.0.\n",
      "Some rows have \"Unclear\" classification\n"
     ]
    }
   ],
   "source": [
    "# Changing \"total_columns\" type to float\n",
    "df['total_layoffs'] = pd.to_numeric(df['total_layoffs'], errors='coerce')\n",
    "\n",
    "# Checking its minimum and maximum (considering only numbers)\n",
    "min_layoff = df['total_layoffs'].min()\n",
    "max_layoff = df['total_layoffs'].max()\n",
    "\n",
    "print('The minimum employees affected by layoff in this dataset is {} and the maximum is {}.'.format(min_layoff, max_layoff))\n",
    "print('Some rows have \"{}\" classification'.format(text_total_layoff))"
   ]
  },
  {
   "cell_type": "code",
   "execution_count": 22,
   "metadata": {},
   "outputs": [
    {
     "name": "stdout",
     "output_type": "stream",
     "text": [
      "\n",
      "<250                 241\n",
      "Undefined            182\n",
      ">=250 and <500        26\n",
      ">=500 and <1000       18\n",
      ">=1000 and <5000      16\n",
      ">=10000                4\n",
      ">=5000 and <10000      2\n",
      "Name: category_total_layoffs, dtype: int64\n"
     ]
    }
   ],
   "source": [
    "# Creating categories for the employees affected\n",
    "conditions_category_total_layoffs = [\n",
    "    df['total_layoffs'] < 250,          # <250 employees\n",
    "    df['total_layoffs'] < 500,          # >=250 & <500\n",
    "    df['total_layoffs'] < 1000,         # >=500 & <1000\n",
    "    df['total_layoffs'] < 5000,         # >=1000 & <5000\n",
    "    df['total_layoffs'] < 10000,        # >=5000 & <10000\n",
    "    df['total_layoffs'] >= 10000        # >=10000\n",
    "]\n",
    "\n",
    "options_category_total_layoffs = [\n",
    "    '<250',\n",
    "    '>=250 and <500',\n",
    "    '>=500 and <1000',\n",
    "    '>=1000 and <5000',\n",
    "    '>=5000 and <10000',\n",
    "    '>=10000'\n",
    "]\n",
    "\n",
    "df['category_total_layoffs'] = np.select(conditions_category_total_layoffs, options_category_total_layoffs, 'Undefined')\n",
    "\n",
    "# Counting each of this category\n",
    "print('')\n",
    "print(df['category_total_layoffs'].value_counts().sort_values('total_layoffs'))"
   ]
  },
  {
   "cell_type": "code",
   "execution_count": 30,
   "metadata": {},
   "outputs": [
    {
     "data": {
      "text/plain": [
       "<AxesSubplot: >"
      ]
     },
     "execution_count": 30,
     "metadata": {},
     "output_type": "execute_result"
    },
    {
     "data": {
      "image/png": "[encoded data removed]",
      "text/plain": [
       "<Figure size 640x480 with 1 Axes>"
      ]
     },
     "metadata": {},
     "output_type": "display_data"
    }
   ],
   "source": [
    "df['total_layoffs'].hist()\n"
   ]
  },
  {
   "cell_type": "code",
   "execution_count": 23,
   "metadata": {},
   "outputs": [
    {
     "data": {
      "text/html": [
       "<div>\n",
       "<style scoped>\n",
       "    .dataframe tbody tr th:only-of-type {\n",
       "        vertical-align: middle;\n",
       "    }\n",
       "\n",
       "    .dataframe tbody tr th {\n",
       "        vertical-align: top;\n",
       "    }\n",
       "\n",
       "    .dataframe thead th {\n",
       "        text-align: right;\n",
       "    }\n",
       "</style>\n",
       "<table border=\"1\" class=\"dataframe\">\n",
       "  <thead>\n",
       "    <tr style=\"text-align: right;\">\n",
       "      <th></th>\n",
       "      <th>company</th>\n",
       "      <th>total_layoffs</th>\n",
       "      <th>impacted_workforce_percentage</th>\n",
       "      <th>reported_date</th>\n",
       "      <th>industry</th>\n",
       "      <th>headquarter_location</th>\n",
       "      <th>sources</th>\n",
       "      <th>status</th>\n",
       "      <th>additional_notes</th>\n",
       "      <th>category_total_layoffs</th>\n",
       "    </tr>\n",
       "  </thead>\n",
       "  <tbody>\n",
       "    <tr>\n",
       "      <th>1</th>\n",
       "      <td>VideoAmp</td>\n",
       "      <td>NaN</td>\n",
       "      <td>2.0</td>\n",
       "      <td>2022-09-19</td>\n",
       "      <td>Advertising platforms</td>\n",
       "      <td>Los Angeles</td>\n",
       "      <td>Company memo</td>\n",
       "      <td>Private</td>\n",
       "      <td>NaN</td>\n",
       "      <td>Undefined</td>\n",
       "    </tr>\n",
       "    <tr>\n",
       "      <th>5</th>\n",
       "      <td>NextRoll</td>\n",
       "      <td>NaN</td>\n",
       "      <td>3.0</td>\n",
       "      <td>2022-07-08</td>\n",
       "      <td>Marketing Tech</td>\n",
       "      <td>San Francisco</td>\n",
       "      <td>Business Insider</td>\n",
       "      <td>Private</td>\n",
       "      <td>NaN</td>\n",
       "      <td>Undefined</td>\n",
       "    </tr>\n",
       "    <tr>\n",
       "      <th>18</th>\n",
       "      <td>Outreach</td>\n",
       "      <td>NaN</td>\n",
       "      <td>5.0</td>\n",
       "      <td>2022-08-02</td>\n",
       "      <td>Sales Tech</td>\n",
       "      <td>Seattle</td>\n",
       "      <td>LinkedIn</td>\n",
       "      <td>Private</td>\n",
       "      <td>NaN</td>\n",
       "      <td>Undefined</td>\n",
       "    </tr>\n",
       "    <tr>\n",
       "      <th>19</th>\n",
       "      <td>Boosted Commerce</td>\n",
       "      <td>NaN</td>\n",
       "      <td>5.0</td>\n",
       "      <td>2022-07-25</td>\n",
       "      <td>E-commerce</td>\n",
       "      <td>Los Angeles</td>\n",
       "      <td>Business Insider</td>\n",
       "      <td>Private</td>\n",
       "      <td>NaN</td>\n",
       "      <td>Undefined</td>\n",
       "    </tr>\n",
       "    <tr>\n",
       "      <th>20</th>\n",
       "      <td>Forward</td>\n",
       "      <td>NaN</td>\n",
       "      <td>5.0</td>\n",
       "      <td>2022-07-11</td>\n",
       "      <td>Health Care</td>\n",
       "      <td>San Francisco</td>\n",
       "      <td>Fierce Healthcare</td>\n",
       "      <td>Private</td>\n",
       "      <td>NaN</td>\n",
       "      <td>Undefined</td>\n",
       "    </tr>\n",
       "    <tr>\n",
       "      <th>...</th>\n",
       "      <td>...</td>\n",
       "      <td>...</td>\n",
       "      <td>...</td>\n",
       "      <td>...</td>\n",
       "      <td>...</td>\n",
       "      <td>...</td>\n",
       "      <td>...</td>\n",
       "      <td>...</td>\n",
       "      <td>...</td>\n",
       "      <td>...</td>\n",
       "    </tr>\n",
       "    <tr>\n",
       "      <th>464</th>\n",
       "      <td>Starry</td>\n",
       "      <td>NaN</td>\n",
       "      <td>74.0</td>\n",
       "      <td>2023-01-18</td>\n",
       "      <td>WiFi, hardware</td>\n",
       "      <td>Boston</td>\n",
       "      <td>SEC filings</td>\n",
       "      <td>Public</td>\n",
       "      <td>NaN</td>\n",
       "      <td>Undefined</td>\n",
       "    </tr>\n",
       "    <tr>\n",
       "      <th>485</th>\n",
       "      <td>Oracle</td>\n",
       "      <td>NaN</td>\n",
       "      <td>NaN</td>\n",
       "      <td>2022-08-01</td>\n",
       "      <td>SaaS, enterprise software</td>\n",
       "      <td>Austin</td>\n",
       "      <td>The Information</td>\n",
       "      <td>Public</td>\n",
       "      <td>The Information reported thousands of people w...</td>\n",
       "      <td>Undefined</td>\n",
       "    </tr>\n",
       "    <tr>\n",
       "      <th>486</th>\n",
       "      <td>LivePerson</td>\n",
       "      <td>NaN</td>\n",
       "      <td>NaN</td>\n",
       "      <td>2022-09-15</td>\n",
       "      <td>Customer service</td>\n",
       "      <td>New York</td>\n",
       "      <td>LinkedIn</td>\n",
       "      <td>Public</td>\n",
       "      <td>NaN</td>\n",
       "      <td>Undefined</td>\n",
       "    </tr>\n",
       "    <tr>\n",
       "      <th>487</th>\n",
       "      <td>Skillz</td>\n",
       "      <td>NaN</td>\n",
       "      <td>NaN</td>\n",
       "      <td>2022-08-29</td>\n",
       "      <td>Mobile Apps, Gaming</td>\n",
       "      <td>San Francisco</td>\n",
       "      <td>Seeking Alpha</td>\n",
       "      <td>Public</td>\n",
       "      <td>NaN</td>\n",
       "      <td>Undefined</td>\n",
       "    </tr>\n",
       "    <tr>\n",
       "      <th>488</th>\n",
       "      <td>Blueboard</td>\n",
       "      <td>NaN</td>\n",
       "      <td>NaN</td>\n",
       "      <td>2022-11-03</td>\n",
       "      <td>Enterprise Software</td>\n",
       "      <td>San Francisco</td>\n",
       "      <td>LinkedIn reports</td>\n",
       "      <td>Private</td>\n",
       "      <td>NaN</td>\n",
       "      <td>Undefined</td>\n",
       "    </tr>\n",
       "  </tbody>\n",
       "</table>\n",
       "<p>182 rows × 10 columns</p>\n",
       "</div>"
      ],
      "text/plain": [
       "              company  total_layoffs  impacted_workforce_percentage reported_date                   industry headquarter_location            sources   status                                   additional_notes category_total_layoffs\n",
       "1            VideoAmp            NaN                            2.0    2022-09-19      Advertising platforms          Los Angeles       Company memo  Private                                                NaN              Undefined\n",
       "5            NextRoll            NaN                            3.0    2022-07-08             Marketing Tech        San Francisco   Business Insider  Private                                                NaN              Undefined\n",
       "18           Outreach            NaN                            5.0    2022-08-02                 Sales Tech              Seattle           LinkedIn  Private                                                NaN              Undefined\n",
       "19   Boosted Commerce            NaN                            5.0    2022-07-25                 E-commerce          Los Angeles   Business Insider  Private                                                NaN              Undefined\n",
       "20            Forward            NaN                            5.0    2022-07-11                Health Care        San Francisco  Fierce Healthcare  Private                                                NaN              Undefined\n",
       "..                ...            ...                            ...           ...                        ...                  ...                ...      ...                                                ...                    ...\n",
       "464            Starry            NaN                           74.0    2023-01-18             WiFi, hardware               Boston        SEC filings   Public                                                NaN              Undefined\n",
       "485            Oracle            NaN                            NaN    2022-08-01  SaaS, enterprise software               Austin    The Information   Public  The Information reported thousands of people w...              Undefined\n",
       "486        LivePerson            NaN                            NaN    2022-09-15           Customer service             New York           LinkedIn   Public                                                NaN              Undefined\n",
       "487            Skillz            NaN                            NaN    2022-08-29        Mobile Apps, Gaming        San Francisco      Seeking Alpha   Public                                                NaN              Undefined\n",
       "488         Blueboard            NaN                            NaN    2022-11-03        Enterprise Software        San Francisco   LinkedIn reports  Private                                                NaN              Undefined\n",
       "\n",
       "[182 rows x 10 columns]"
      ]
     },
     "execution_count": 23,
     "metadata": {},
     "output_type": "execute_result"
    }
   ],
   "source": [
    "df[df['category_total_layoffs'] == 'Undefined']"
   ]
  },
  {
   "attachments": {},
   "cell_type": "markdown",
   "metadata": {},
   "source": [
    "## 4.3 Exploring columns: ***impacted_workforce_percentage***"
   ]
  },
  {
   "cell_type": "code",
   "execution_count": 15,
   "metadata": {},
   "outputs": [
    {
     "name": "stdout",
     "output_type": "stream",
     "text": [
      "The minimum workforce percentage affected by layoff in this dataset is 1 and the maximum is Unclear.\n"
     ]
    }
   ],
   "source": [
    "# Minimum and maximum \"impacted_workforce_percentage\"\n",
    "min_workforce_percentage = df['impacted_workforce_percentage'].min()\n",
    "max_workforce_percentage = df['impacted_workforce_percentage'].max()\n",
    "\n",
    "print('The minimum workforce percentage affected by layoff in this dataset is {} and the maximum is {}.'.format(min_workforce_percentage, max_workforce_percentage))"
   ]
  },
  {
   "cell_type": "code",
   "execution_count": 16,
   "metadata": {},
   "outputs": [
    {
     "data": {
      "text/plain": [
       "array(['Unclear'], dtype=object)"
      ]
     },
     "execution_count": 16,
     "metadata": {},
     "output_type": "execute_result"
    }
   ],
   "source": [
    "# Applying the same logic from \"total_layoffs\"\n",
    "text_workforce_percentage = df[~df['impacted_workforce_percentage'].str.isnumeric()]['impacted_workforce_percentage'].unique()\n",
    "text_workforce_percentage"
   ]
  },
  {
   "cell_type": "code",
   "execution_count": 17,
   "metadata": {},
   "outputs": [
    {
     "name": "stdout",
     "output_type": "stream",
     "text": [
      "The minimum impacted workforce percentage in this dataset is 1.0 and the maximum is 100.0.\n",
      "Some rows have \"Unclear\" classification\n"
     ]
    }
   ],
   "source": [
    "# Saving the text\n",
    "text_workforce_percentage = text_workforce_percentage[0]\n",
    "\n",
    "# Changing the \"impacted_workforce_percentage\" type to date\n",
    "df['impacted_workforce_percentage'] = pd.to_numeric(df['impacted_workforce_percentage'], errors='coerce')\n",
    "\n",
    "# Checking its minimum and maximum values\n",
    "min_workforce_percentage = df['impacted_workforce_percentage'].min()\n",
    "max_workforce_percentage = df['impacted_workforce_percentage'].max()\n",
    "\n",
    "print('The minimum impacted workforce percentage in this dataset is {} and the maximum is {}.'.format(min_workforce_percentage, max_workforce_percentage))\n",
    "print('Some rows have \"{}\" classification'.format(text_workforce_percentage))"
   ]
  },
  {
   "attachments": {},
   "cell_type": "markdown",
   "metadata": {},
   "source": [
    "## 4.4 Exploring columns: ***reported_date***"
   ]
  },
  {
   "cell_type": "code",
   "execution_count": 18,
   "metadata": {},
   "outputs": [
    {
     "name": "stdout",
     "output_type": "stream",
     "text": [
      "The first reported date in this dataset is 2022-01-27 00:00:00 and the last one is 2023-01-24 00:00:00\n"
     ]
    }
   ],
   "source": [
    "# Converting the \"reported_date\" column type to date\n",
    "df['reported_date'] = pd.to_datetime(df['reported_date'], errors='coerce')\n",
    "\n",
    "# Saving minimum and maximum values\n",
    "min_reported_date = df['reported_date'].min()\n",
    "max_reported_date = df['reported_date'].max()\n",
    "\n",
    "print('The first reported date in this dataset is {} and the last one is {}'.format(min_reported_date, max_reported_date))"
   ]
  },
  {
   "cell_type": "code",
   "execution_count": 19,
   "metadata": {},
   "outputs": [],
   "source": [
    "# CHECK LAYOFF FOR EACH MONTH"
   ]
  },
  {
   "attachments": {},
   "cell_type": "markdown",
   "metadata": {},
   "source": [
    "## 4.5 Exploring columns: ***industry***"
   ]
  },
  {
   "cell_type": "code",
   "execution_count": 20,
   "metadata": {},
   "outputs": [
    {
     "name": "stdout",
     "output_type": "stream",
     "text": [
      "There is a total of 289 different industries in this dataset.\n"
     ]
    }
   ],
   "source": [
    "# Counting how many uniques industries are listed in the dataset\n",
    "total_industries = df['industry'].nunique()\n",
    "\n",
    "print('There is a total of {} different industries in this dataset.'.format(total_industries))"
   ]
  },
  {
   "cell_type": "code",
   "execution_count": 21,
   "metadata": {},
   "outputs": [
    {
     "data": {
      "text/plain": [
       "Fintech           24\n",
       "Health Care       17\n",
       "PropTech          15\n",
       "E-commerce        13\n",
       "Cybersecurity     10\n",
       "Proptech           9\n",
       "FinTech            7\n",
       "InsurTech          7\n",
       "Cryptocurrency     7\n",
       "Fitness            6\n",
       "Name: industry, dtype: int64"
      ]
     },
     "execution_count": 21,
     "metadata": {},
     "output_type": "execute_result"
    }
   ],
   "source": [
    "# Showing the 10 most repetitive industries\n",
    "df['industry'].value_counts().head(10)"
   ]
  },
  {
   "attachments": {},
   "cell_type": "markdown",
   "metadata": {},
   "source": [
    "----"
   ]
  },
  {
   "attachments": {},
   "cell_type": "markdown",
   "metadata": {},
   "source": [
    "### 💡 **Analysis 1) Check which companies had more and fewer layoff**"
   ]
  },
  {
   "cell_type": "code",
   "execution_count": null,
   "metadata": {},
   "outputs": [],
   "source": [
    "# Converting columns to their correct type\n",
    "tech_layoffs['total_layoffs'] = pd.to_numeric(tech_layoffs['total_layoffs'], errors='coerce')\n",
    "tech_layoffs['impacted_workforce_percentage'] = pd.to_numeric(tech_layoffs['impacted_workforce_percentage'], errors='coerce')\n",
    "tech_layoffs['reported_date'] = pd.to_datetime(tech_layoffs['reported_date'], format='%d/%M/%Y')"
   ]
  },
  {
   "cell_type": "code",
   "execution_count": null,
   "metadata": {},
   "outputs": [],
   "source": [
    "tech_layoffs.sample(1)"
   ]
  },
  {
   "cell_type": "code",
   "execution_count": null,
   "metadata": {},
   "outputs": [],
   "source": [
    "# Step 1: calculating the total employees for each company (that has \"total_layoff\" and \"impacted_workforce_percentage\" filled)\n",
    "tech_layoffs['total_employees'] = ((tech_layoffs['total_layoffs'] / 100) / (tech_layoffs['impacted_workforce_percentage'] / 100)) * 100\n",
    "\n",
    "# Step 2: rounding the \"total_employees\" value\n",
    "tech_layoffs['total_employees'] = tech_layoffs['total_employees'].round(0)\n",
    "\n",
    "tech_layoffs.sample(2)"
   ]
  },
  {
   "cell_type": "code",
   "execution_count": null,
   "metadata": {},
   "outputs": [],
   "source": [
    "# Step 3: grouping by company name and removing rows with empty \"total_layoffs\" or \"total_employees\"\n",
    "top_companies = tech_layoffs.groupby('company', as_index=False)[['total_layoffs', 'total_employees']].sum()\n",
    "\n",
    "top_companies = top_companies[top_companies['total_layoffs'] > 0]\n",
    "top_companies = top_companies[top_companies['total_employees'] > 0]\n",
    "\n",
    "# Step 4: creating total layoff percentage (in case a company had layoff twice or more)\n",
    "top_companies['total_layoff_percentage'] = ((top_companies['total_layoffs'] / top_companies['total_employees']) * 100).round(1)\n",
    "\n",
    "top_companies.sample(3)"
   ]
  },
  {
   "cell_type": "code",
   "execution_count": null,
   "metadata": {},
   "outputs": [],
   "source": [
    "# Step 5.1: categorizing the company size\n",
    "company_size_conditions = [\n",
    "    top_companies['total_employees'] < 100,      # <100 Employees => Small Company\n",
    "    top_companies['total_employees'] < 500,      # >=100 & <500 Employees => Mid Company\n",
    "    top_companies['total_employees'] < 2000,     # >=500 & <2000 Employees => Large Company\n",
    "    top_companies['total_employees'] >= 2000     # >=2000 Employees => Big Tech\n",
    "]\n",
    "\n",
    "company_size_options = [\n",
    "    'Small Company',\n",
    "    'Mid Company',\n",
    "    'Large Company',\n",
    "    'Big Tech'\n",
    "]\n",
    "\n",
    "top_companies['company_size'] = np.select(company_size_conditions, company_size_options, 'Unidentified')\n",
    "\n",
    "top_companies.sample(3)"
   ]
  },
  {
   "cell_type": "code",
   "execution_count": null,
   "metadata": {},
   "outputs": [],
   "source": [
    "# Step 5.2: merging the \"company_size\" column to the main dataframe\n",
    "tech_layoffs = pd.merge(top_companies[['company', 'company_size']], tech_layoffs, how='left', on='company')\n",
    "\n",
    "tech_layoffs.sample(3)"
   ]
  },
  {
   "attachments": {},
   "cell_type": "markdown",
   "metadata": {},
   "source": [
    "----"
   ]
  },
  {
   "cell_type": "code",
   "execution_count": null,
   "metadata": {},
   "outputs": [],
   "source": [
    "# Step 6.1: sorting by top 10 most \"total_layoffs\"\n",
    "top_companies.sort_values('total_layoffs', ascending=False).head(5).reset_index(drop=True)"
   ]
  },
  {
   "cell_type": "code",
   "execution_count": null,
   "metadata": {},
   "outputs": [],
   "source": [
    "# Analyzing 6.1: top 10 most \"total_layoffs\"\n",
    "tech_layoffs[tech_layoffs['company'] == 'Amazon']"
   ]
  },
  {
   "attachments": {},
   "cell_type": "markdown",
   "metadata": {},
   "source": [
    "----"
   ]
  },
  {
   "cell_type": "code",
   "execution_count": null,
   "metadata": {},
   "outputs": [],
   "source": [
    "# Step 6.2: sorting by top 10 fewer \"total_layoffs\"\n",
    "top_companies.sort_values('total_layoffs', ascending=True).head(5).reset_index(drop=True)"
   ]
  },
  {
   "cell_type": "code",
   "execution_count": null,
   "metadata": {},
   "outputs": [],
   "source": [
    "# Step 6.3: sorting by top 10 most \"total_layoff_percentage\" (important!)\n",
    "top_companies.sort_values('total_layoff_percentage', ascending=False).head(10).reset_index(drop=True)"
   ]
  },
  {
   "cell_type": "code",
   "execution_count": null,
   "metadata": {},
   "outputs": [],
   "source": [
    "# Step 6.4: sorting by top 10 fewer \"total_layoff_percentage\" (important!)\n",
    "top_companies.sort_values('total_layoff_percentage', ascending=True).head(10).reset_index(drop=True)"
   ]
  },
  {
   "attachments": {},
   "cell_type": "markdown",
   "metadata": {},
   "source": [
    "----"
   ]
  },
  {
   "attachments": {},
   "cell_type": "markdown",
   "metadata": {},
   "source": [
    "contar quantas vezes a empresa fez layoff\n",
    "isso é negativo pra ela se fez mais de 1 vez"
   ]
  },
  {
   "attachments": {},
   "cell_type": "markdown",
   "metadata": {},
   "source": [
    "## Analysis 2) Rank which industry had most layoff "
   ]
  },
  {
   "attachments": {},
   "cell_type": "markdown",
   "metadata": {},
   "source": [
    "## Analysis 3)  "
   ]
  },
  {
   "cell_type": "code",
   "execution_count": null,
   "metadata": {},
   "outputs": [],
   "source": [
    "# Exporting files to .csv to read in Power BI\n",
    "tech_layoffs.to_csv('../data/tech_layoffs.csv')\n",
    "top_companies.to_csv('../data/top_companies.csv')"
   ]
  }
 ],
 "metadata": {
  "kernelspec": {
   "display_name": ".env_linux",
   "language": "python",
   "name": "python3"
  },
  "language_info": {
   "codemirror_mode": {
    "name": "ipython",
    "version": 3
   },
   "file_extension": ".py",
   "mimetype": "text/x-python",
   "name": "python",
   "nbconvert_exporter": "python",
   "pygments_lexer": "ipython3",
   "version": "3.10.6"
  },
  "orig_nbformat": 4,
  "vscode": {
   "interpreter": {
    "hash": "8f13e99b52f62722ae5ba309e66f6acb2ea1b2a31c567c2c71d93bdb79137219"
   }
  }
 },
 "nbformat": 4,
 "nbformat_minor": 2
}
